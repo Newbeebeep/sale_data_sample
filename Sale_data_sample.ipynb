{
 "cells": [
  {
   "cell_type": "code",
   "execution_count": 1,
   "id": "3ae37cad-13f1-418c-9737-f693dafea48a",
   "metadata": {},
   "outputs": [
    {
     "data": {
      "text/html": [
       "<div>\n",
       "<style scoped>\n",
       "    .dataframe tbody tr th:only-of-type {\n",
       "        vertical-align: middle;\n",
       "    }\n",
       "\n",
       "    .dataframe tbody tr th {\n",
       "        vertical-align: top;\n",
       "    }\n",
       "\n",
       "    .dataframe thead th {\n",
       "        text-align: right;\n",
       "    }\n",
       "</style>\n",
       "<table border=\"1\" class=\"dataframe\">\n",
       "  <thead>\n",
       "    <tr style=\"text-align: right;\">\n",
       "      <th></th>\n",
       "      <th>ORDERNUMBER</th>\n",
       "      <th>QUANTITYORDERED</th>\n",
       "      <th>PRICEEACH</th>\n",
       "      <th>ORDERLINENUMBER</th>\n",
       "      <th>SALES</th>\n",
       "      <th>ORDERDATE</th>\n",
       "      <th>STATUS</th>\n",
       "      <th>QTR_ID</th>\n",
       "      <th>MONTH_ID</th>\n",
       "      <th>YEAR_ID</th>\n",
       "      <th>...</th>\n",
       "      <th>ADDRESSLINE1</th>\n",
       "      <th>ADDRESSLINE2</th>\n",
       "      <th>CITY</th>\n",
       "      <th>STATE</th>\n",
       "      <th>POSTALCODE</th>\n",
       "      <th>COUNTRY</th>\n",
       "      <th>TERRITORY</th>\n",
       "      <th>CONTACTLASTNAME</th>\n",
       "      <th>CONTACTFIRSTNAME</th>\n",
       "      <th>DEALSIZE</th>\n",
       "    </tr>\n",
       "  </thead>\n",
       "  <tbody>\n",
       "    <tr>\n",
       "      <th>0</th>\n",
       "      <td>10107</td>\n",
       "      <td>30</td>\n",
       "      <td>95.70</td>\n",
       "      <td>2</td>\n",
       "      <td>2871.00</td>\n",
       "      <td>2/24/2003 0:00</td>\n",
       "      <td>Shipped</td>\n",
       "      <td>1</td>\n",
       "      <td>2</td>\n",
       "      <td>2003</td>\n",
       "      <td>...</td>\n",
       "      <td>897 Long Airport Avenue</td>\n",
       "      <td>NaN</td>\n",
       "      <td>NYC</td>\n",
       "      <td>NY</td>\n",
       "      <td>10022</td>\n",
       "      <td>USA</td>\n",
       "      <td>NaN</td>\n",
       "      <td>Yu</td>\n",
       "      <td>Kwai</td>\n",
       "      <td>Small</td>\n",
       "    </tr>\n",
       "    <tr>\n",
       "      <th>1</th>\n",
       "      <td>10121</td>\n",
       "      <td>34</td>\n",
       "      <td>81.35</td>\n",
       "      <td>5</td>\n",
       "      <td>2765.90</td>\n",
       "      <td>5/7/2003 0:00</td>\n",
       "      <td>Shipped</td>\n",
       "      <td>2</td>\n",
       "      <td>5</td>\n",
       "      <td>2003</td>\n",
       "      <td>...</td>\n",
       "      <td>59 rue de l'Abbaye</td>\n",
       "      <td>NaN</td>\n",
       "      <td>Reims</td>\n",
       "      <td>NaN</td>\n",
       "      <td>51100</td>\n",
       "      <td>France</td>\n",
       "      <td>EMEA</td>\n",
       "      <td>Henriot</td>\n",
       "      <td>Paul</td>\n",
       "      <td>Small</td>\n",
       "    </tr>\n",
       "    <tr>\n",
       "      <th>2</th>\n",
       "      <td>10134</td>\n",
       "      <td>41</td>\n",
       "      <td>94.74</td>\n",
       "      <td>2</td>\n",
       "      <td>3884.34</td>\n",
       "      <td>7/1/2003 0:00</td>\n",
       "      <td>Shipped</td>\n",
       "      <td>3</td>\n",
       "      <td>7</td>\n",
       "      <td>2003</td>\n",
       "      <td>...</td>\n",
       "      <td>27 rue du Colonel Pierre Avia</td>\n",
       "      <td>NaN</td>\n",
       "      <td>Paris</td>\n",
       "      <td>NaN</td>\n",
       "      <td>75508</td>\n",
       "      <td>France</td>\n",
       "      <td>EMEA</td>\n",
       "      <td>Da Cunha</td>\n",
       "      <td>Daniel</td>\n",
       "      <td>Medium</td>\n",
       "    </tr>\n",
       "    <tr>\n",
       "      <th>3</th>\n",
       "      <td>10145</td>\n",
       "      <td>45</td>\n",
       "      <td>83.26</td>\n",
       "      <td>6</td>\n",
       "      <td>3746.70</td>\n",
       "      <td>8/25/2003 0:00</td>\n",
       "      <td>Shipped</td>\n",
       "      <td>3</td>\n",
       "      <td>8</td>\n",
       "      <td>2003</td>\n",
       "      <td>...</td>\n",
       "      <td>78934 Hillside Dr.</td>\n",
       "      <td>NaN</td>\n",
       "      <td>Pasadena</td>\n",
       "      <td>CA</td>\n",
       "      <td>90003</td>\n",
       "      <td>USA</td>\n",
       "      <td>NaN</td>\n",
       "      <td>Young</td>\n",
       "      <td>Julie</td>\n",
       "      <td>Medium</td>\n",
       "    </tr>\n",
       "    <tr>\n",
       "      <th>4</th>\n",
       "      <td>10159</td>\n",
       "      <td>49</td>\n",
       "      <td>100.00</td>\n",
       "      <td>14</td>\n",
       "      <td>5205.27</td>\n",
       "      <td>10/10/2003 0:00</td>\n",
       "      <td>Shipped</td>\n",
       "      <td>4</td>\n",
       "      <td>10</td>\n",
       "      <td>2003</td>\n",
       "      <td>...</td>\n",
       "      <td>7734 Strong St.</td>\n",
       "      <td>NaN</td>\n",
       "      <td>San Francisco</td>\n",
       "      <td>CA</td>\n",
       "      <td>NaN</td>\n",
       "      <td>USA</td>\n",
       "      <td>NaN</td>\n",
       "      <td>Brown</td>\n",
       "      <td>Julie</td>\n",
       "      <td>Medium</td>\n",
       "    </tr>\n",
       "  </tbody>\n",
       "</table>\n",
       "<p>5 rows × 25 columns</p>\n",
       "</div>"
      ],
      "text/plain": [
       "   ORDERNUMBER  QUANTITYORDERED  PRICEEACH  ORDERLINENUMBER    SALES  \\\n",
       "0        10107               30      95.70                2  2871.00   \n",
       "1        10121               34      81.35                5  2765.90   \n",
       "2        10134               41      94.74                2  3884.34   \n",
       "3        10145               45      83.26                6  3746.70   \n",
       "4        10159               49     100.00               14  5205.27   \n",
       "\n",
       "         ORDERDATE   STATUS  QTR_ID  MONTH_ID  YEAR_ID  ...  \\\n",
       "0   2/24/2003 0:00  Shipped       1         2     2003  ...   \n",
       "1    5/7/2003 0:00  Shipped       2         5     2003  ...   \n",
       "2    7/1/2003 0:00  Shipped       3         7     2003  ...   \n",
       "3   8/25/2003 0:00  Shipped       3         8     2003  ...   \n",
       "4  10/10/2003 0:00  Shipped       4        10     2003  ...   \n",
       "\n",
       "                    ADDRESSLINE1  ADDRESSLINE2           CITY STATE  \\\n",
       "0        897 Long Airport Avenue           NaN            NYC    NY   \n",
       "1             59 rue de l'Abbaye           NaN          Reims   NaN   \n",
       "2  27 rue du Colonel Pierre Avia           NaN          Paris   NaN   \n",
       "3             78934 Hillside Dr.           NaN       Pasadena    CA   \n",
       "4                7734 Strong St.           NaN  San Francisco    CA   \n",
       "\n",
       "  POSTALCODE COUNTRY TERRITORY CONTACTLASTNAME CONTACTFIRSTNAME DEALSIZE  \n",
       "0      10022     USA       NaN              Yu             Kwai    Small  \n",
       "1      51100  France      EMEA         Henriot             Paul    Small  \n",
       "2      75508  France      EMEA        Da Cunha           Daniel   Medium  \n",
       "3      90003     USA       NaN           Young            Julie   Medium  \n",
       "4        NaN     USA       NaN           Brown            Julie   Medium  \n",
       "\n",
       "[5 rows x 25 columns]"
      ]
     },
     "execution_count": 1,
     "metadata": {},
     "output_type": "execute_result"
    }
   ],
   "source": [
    "import pandas as pd\n",
    "\n",
    "df = pd.read_csv(\"sales_data_sample.csv\", encoding='ISO-8859-1') \n",
    "df.head()\n"
   ]
  },
  {
   "cell_type": "code",
   "execution_count": 3,
   "id": "0ad58e5c-0490-4edc-86b4-a5b2289135f9",
   "metadata": {},
   "outputs": [
    {
     "data": {
      "text/plain": [
       "(2823, 25)"
      ]
     },
     "execution_count": 3,
     "metadata": {},
     "output_type": "execute_result"
    }
   ],
   "source": [
    "df.shape"
   ]
  },
  {
   "cell_type": "code",
   "execution_count": 5,
   "id": "4bddf08b-ea45-426a-8500-474765c6582d",
   "metadata": {},
   "outputs": [
    {
     "data": {
      "text/plain": [
       "Index(['ORDERNUMBER', 'QUANTITYORDERED', 'PRICEEACH', 'ORDERLINENUMBER',\n",
       "       'SALES', 'ORDERDATE', 'STATUS', 'QTR_ID', 'MONTH_ID', 'YEAR_ID',\n",
       "       'PRODUCTLINE', 'MSRP', 'PRODUCTCODE', 'CUSTOMERNAME', 'PHONE',\n",
       "       'ADDRESSLINE1', 'ADDRESSLINE2', 'CITY', 'STATE', 'POSTALCODE',\n",
       "       'COUNTRY', 'TERRITORY', 'CONTACTLASTNAME', 'CONTACTFIRSTNAME',\n",
       "       'DEALSIZE'],\n",
       "      dtype='object')"
      ]
     },
     "execution_count": 5,
     "metadata": {},
     "output_type": "execute_result"
    }
   ],
   "source": [
    "df.columns "
   ]
  },
  {
   "cell_type": "code",
   "execution_count": 7,
   "id": "6f7aa47b-a499-4982-9315-45a5297a3bf5",
   "metadata": {},
   "outputs": [
    {
     "name": "stdout",
     "output_type": "stream",
     "text": [
      "<class 'pandas.core.frame.DataFrame'>\n",
      "RangeIndex: 2823 entries, 0 to 2822\n",
      "Data columns (total 25 columns):\n",
      " #   Column            Non-Null Count  Dtype  \n",
      "---  ------            --------------  -----  \n",
      " 0   ORDERNUMBER       2823 non-null   int64  \n",
      " 1   QUANTITYORDERED   2823 non-null   int64  \n",
      " 2   PRICEEACH         2823 non-null   float64\n",
      " 3   ORDERLINENUMBER   2823 non-null   int64  \n",
      " 4   SALES             2823 non-null   float64\n",
      " 5   ORDERDATE         2823 non-null   object \n",
      " 6   STATUS            2823 non-null   object \n",
      " 7   QTR_ID            2823 non-null   int64  \n",
      " 8   MONTH_ID          2823 non-null   int64  \n",
      " 9   YEAR_ID           2823 non-null   int64  \n",
      " 10  PRODUCTLINE       2823 non-null   object \n",
      " 11  MSRP              2823 non-null   int64  \n",
      " 12  PRODUCTCODE       2823 non-null   object \n",
      " 13  CUSTOMERNAME      2823 non-null   object \n",
      " 14  PHONE             2823 non-null   object \n",
      " 15  ADDRESSLINE1      2823 non-null   object \n",
      " 16  ADDRESSLINE2      302 non-null    object \n",
      " 17  CITY              2823 non-null   object \n",
      " 18  STATE             1337 non-null   object \n",
      " 19  POSTALCODE        2747 non-null   object \n",
      " 20  COUNTRY           2823 non-null   object \n",
      " 21  TERRITORY         1749 non-null   object \n",
      " 22  CONTACTLASTNAME   2823 non-null   object \n",
      " 23  CONTACTFIRSTNAME  2823 non-null   object \n",
      " 24  DEALSIZE          2823 non-null   object \n",
      "dtypes: float64(2), int64(7), object(16)\n",
      "memory usage: 551.5+ KB\n"
     ]
    }
   ],
   "source": [
    "df.info() "
   ]
  },
  {
   "cell_type": "code",
   "execution_count": 9,
   "id": "5fc4b96b-9df7-463d-8272-a4ec8236e1fd",
   "metadata": {},
   "outputs": [],
   "source": [
    "df[\"ORDERDATE\"] = pd.to_datetime(df[\"ORDERDATE\"])\n"
   ]
  },
  {
   "cell_type": "code",
   "execution_count": 14,
   "id": "4159f4d6-b967-4af0-b6e6-48c6f3c273e3",
   "metadata": {},
   "outputs": [],
   "source": [
    "df[\"YEAR\"] = df[\"ORDERDATE\"].dt.year\n",
    "df[\"MONTH\"] = df[\"ORDERDATE\"].dt.month\n",
    "df[\"QUARTER\"] = df[\"ORDERDATE\"].dt.quarter\n"
   ]
  },
  {
   "cell_type": "code",
   "execution_count": 20,
   "id": "3dae523b-316b-4a1e-8201-a3aa83b0d97e",
   "metadata": {},
   "outputs": [
    {
     "data": {
      "text/plain": [
       "ORDERNUMBER            0\n",
       "QUANTITYORDERED        0\n",
       "PRICEEACH              0\n",
       "ORDERLINENUMBER        0\n",
       "SALES                  0\n",
       "ORDERDATE              0\n",
       "STATUS                 0\n",
       "QTR_ID                 0\n",
       "MONTH_ID               0\n",
       "YEAR_ID                0\n",
       "PRODUCTLINE            0\n",
       "MSRP                   0\n",
       "PRODUCTCODE            0\n",
       "CUSTOMERNAME           0\n",
       "PHONE                  0\n",
       "ADDRESSLINE1           0\n",
       "ADDRESSLINE2        2521\n",
       "CITY                   0\n",
       "STATE               1486\n",
       "POSTALCODE            76\n",
       "COUNTRY                0\n",
       "TERRITORY           1074\n",
       "CONTACTLASTNAME        0\n",
       "CONTACTFIRSTNAME       0\n",
       "DEALSIZE               0\n",
       "YEAR                   0\n",
       "MONTH                  0\n",
       "QUARTER                0\n",
       "dtype: int64"
      ]
     },
     "execution_count": 20,
     "metadata": {},
     "output_type": "execute_result"
    }
   ],
   "source": [
    "df.isnull().sum()\n"
   ]
  },
  {
   "cell_type": "code",
   "execution_count": 22,
   "id": "16c5739e-5dcc-4fe6-8586-2698d8f289cc",
   "metadata": {},
   "outputs": [],
   "source": [
    "df.drop(columns=[\"ADDRESSLINE2\"], inplace=True)\n",
    "\n"
   ]
  },
  {
   "cell_type": "code",
   "execution_count": 30,
   "id": "a6e86d52-de7a-4ec5-a0f9-7ead07175538",
   "metadata": {},
   "outputs": [],
   "source": [
    "df[\"STATE\"] = df[\"STATE\"].fillna(\"Unknown\")\n",
    "\n"
   ]
  },
  {
   "cell_type": "code",
   "execution_count": 32,
   "id": "5fbf6a7d-1391-4345-a058-fc91b8c46e27",
   "metadata": {},
   "outputs": [],
   "source": [
    "df[\"TERRITORY\"] = df[\"TERRITORY\"].fillna(\"Unknown\")\n"
   ]
  },
  {
   "cell_type": "code",
   "execution_count": 34,
   "id": "cfe23150-be80-4dd2-a399-d659269a0622",
   "metadata": {},
   "outputs": [],
   "source": [
    "df[\"TERRITORY\"] = df[\"TERRITORY\"].fillna(\"Unknown\")"
   ]
  },
  {
   "cell_type": "code",
   "execution_count": null,
   "id": "2e52a277-122c-47b7-99af-03e4a407b956",
   "metadata": {},
   "outputs": [],
   "source": []
  },
  {
   "cell_type": "code",
   "execution_count": 46,
   "id": "ba190c9a-1412-4b1d-aa74-bd7a30f00457",
   "metadata": {},
   "outputs": [
    {
     "data": {
      "text/plain": [
       "PRODUCTLINE\n",
       "Classic Cars        3919615.66\n",
       "Vintage Cars        1903150.84\n",
       "Motorcycles         1166388.34\n",
       "Trucks and Buses    1127789.84\n",
       "Planes               975003.57\n",
       "Ships                714437.13\n",
       "Trains               226243.47\n",
       "Name: SALES, dtype: float64"
      ]
     },
     "execution_count": 46,
     "metadata": {},
     "output_type": "execute_result"
    }
   ],
   "source": [
    "product_sales = df.groupby(\"PRODUCTLINE\")[\"SALES\"].sum().sort_values(ascending=False)\n",
    "product_sales\n"
   ]
  },
  {
   "cell_type": "code",
   "execution_count": 42,
   "id": "5ad891b6-cfc7-4fa7-8094-9f8ed2c7a75a",
   "metadata": {},
   "outputs": [
    {
     "data": {
      "text/plain": [
       "PRODUCTLINE\n",
       "Trains               226243.47\n",
       "Ships                714437.13\n",
       "Planes               975003.57\n",
       "Trucks and Buses    1127789.84\n",
       "Motorcycles         1166388.34\n",
       "Name: SALES, dtype: float64"
      ]
     },
     "execution_count": 42,
     "metadata": {},
     "output_type": "execute_result"
    }
   ],
   "source": [
    "product_sales.sort_values().head(5) \n"
   ]
  },
  {
   "cell_type": "code",
   "execution_count": 48,
   "id": "6ebcd099-7798-4ca9-8ff6-8e6ffc76f994",
   "metadata": {},
   "outputs": [
    {
     "data": {
      "image/png": "[encoded data removed]",
      "text/plain": [
       "<Figure size 1000x600 with 1 Axes>"
      ]
     },
     "metadata": {},
     "output_type": "display_data"
    }
   ],
   "source": [
    "import matplotlib.pyplot as plt\n",
    "\n",
    "product_sales.plot(kind='bar', color='skyblue', figsize=(10,6))\n",
    "plt.title(\"Total Sales by Product Line\")\n",
    "plt.ylabel(\"Sales\")\n",
    "plt.xlabel(\"Product Line\")\n",
    "plt.xticks(rotation=45)\n",
    "plt.tight_layout()\n",
    "plt.show()\n"
   ]
  },
  {
   "cell_type": "code",
   "execution_count": 51,
   "id": "6f7b3ce7-204c-40b4-9519-7e8fbf4849ba",
   "metadata": {},
   "outputs": [
    {
     "data": {
      "text/plain": [
       "PRODUCTLINE\n",
       "Ships           18\n",
       "Classic Cars    16\n",
       "Vintage Cars    13\n",
       "Planes          12\n",
       "Trains           1\n",
       "Name: count, dtype: int64"
      ]
     },
     "execution_count": 51,
     "metadata": {},
     "output_type": "execute_result"
    }
   ],
   "source": [
    "cancelled_orders = df[df[\"STATUS\"] == \"Cancelled\"]\n",
    "cancelled_counts = cancelled_orders[\"PRODUCTLINE\"].value_counts()\n",
    "cancelled_counts\n"
   ]
  },
  {
   "cell_type": "code",
   "execution_count": null,
   "id": "5207a925-542f-497a-a116-3fc061469e06",
   "metadata": {},
   "outputs": [],
   "source": []
  },
  {
   "cell_type": "code",
   "execution_count": 53,
   "id": "0403c186-0f3e-4323-9939-5458b5033921",
   "metadata": {},
   "outputs": [
    {
     "data": {
      "text/plain": [
       "PRODUCTCODE\n",
       "S24_3969    33181.66\n",
       "S32_2206    41353.43\n",
       "S24_2022    44667.16\n",
       "S24_2972    46515.92\n",
       "S24_1628    46676.51\n",
       "S24_2840    47235.48\n",
       "S24_1937    47981.09\n",
       "S50_1341    50217.95\n",
       "S72_1253    51661.82\n",
       "S18_1367    52045.03\n",
       "Name: SALES, dtype: float64"
      ]
     },
     "execution_count": 53,
     "metadata": {},
     "output_type": "execute_result"
    }
   ],
   "source": [
    "low_selling_products = df.groupby(\"PRODUCTCODE\")[\"SALES\"].sum().sort_values().head(10)\n",
    "low_selling_products\n"
   ]
  },
  {
   "cell_type": "code",
   "execution_count": 59,
   "id": "55a51732-c643-43d2-b70d-8a86af188e90",
   "metadata": {},
   "outputs": [
    {
     "data": {
      "image/png": "[encoded data removed]",
      "text/plain": [
       "<Figure size 1000x600 with 1 Axes>"
      ]
     },
     "metadata": {},
     "output_type": "display_data"
    }
   ],
   "source": [
    "low_selling_products.plot(kind=\"barh\", figsize=(10, 6), color=\"darkgreen\")\n",
    "plt.title(\"Bottom 10 Products by Sales\")\n",
    "plt.xlabel(\"Total Sales\")\n",
    "plt.ylabel(\"Product Code\")\n",
    "plt.tight_layout()\n",
    "plt.show()\n"
   ]
  },
  {
   "cell_type": "code",
   "execution_count": null,
   "id": "0a30c4dd-0ba7-420c-aeca-7eb2f56ce347",
   "metadata": {},
   "outputs": [],
   "source": []
  },
  {
   "cell_type": "code",
   "execution_count": 61,
   "id": "c2bf346d-5a3e-40e2-be7d-ab8a7e53a468",
   "metadata": {},
   "outputs": [],
   "source": [
    "total_sales = df.groupby(\"PRODUCTCODE\")[\"SALES\"].sum()"
   ]
  },
  {
   "cell_type": "code",
   "execution_count": 63,
   "id": "a144c919-3e4e-442b-9a1c-d45614a789ae",
   "metadata": {},
   "outputs": [],
   "source": [
    "total_quantity = df.groupby(\"PRODUCTCODE\")[\"QUANTITYORDERED\"].sum()"
   ]
  },
  {
   "cell_type": "code",
   "execution_count": 65,
   "id": "5e678839-6c19-4325-9d04-d8afe9cdf708",
   "metadata": {},
   "outputs": [],
   "source": [
    "product_line = df.groupby(\"PRODUCTCODE\")[\"PRODUCTLINE\"].first()"
   ]
  },
  {
   "cell_type": "code",
   "execution_count": null,
   "id": "11de34b3-1e1b-4ada-8336-776395fe3675",
   "metadata": {},
   "outputs": [],
   "source": [
    "cancelled_counts = df[df[\"STATUS\"] == \"Cancelled\"].groupby(\"PRODUCTCODE\")[\"STATUS\"].count()"
   ]
  },
  {
   "cell_type": "code",
   "execution_count": null,
   "id": "41f2fafe-a478-49a3-aa30-71c1c3003f0e",
   "metadata": {},
   "outputs": [],
   "source": []
  },
  {
   "cell_type": "code",
   "execution_count": 85,
   "id": "f64d5f68-cf98-4897-be84-20257af16ff1",
   "metadata": {},
   "outputs": [
    {
     "name": "stderr",
     "output_type": "stream",
     "text": [
      "C:\\Users\\jingl\\AppData\\Local\\Temp\\ipykernel_31108\\1350624231.py:8: FutureWarning: A value is trying to be set on a copy of a DataFrame or Series through chained assignment using an inplace method.\n",
      "The behavior will change in pandas 3.0. This inplace method will never work because the intermediate object on which we are setting values always behaves as a copy.\n",
      "\n",
      "For example, when doing 'df[col].method(value, inplace=True)', try using 'df.method({col: value}, inplace=True)' or df[col] = df[col].method(value) instead, to perform the operation inplace on the original object.\n",
      "\n",
      "\n",
      "  product_summary[\"CancelledOrders\"].fillna(0, inplace=True)\n"
     ]
    },
    {
     "data": {
      "text/html": [
       "<div>\n",
       "<style scoped>\n",
       "    .dataframe tbody tr th:only-of-type {\n",
       "        vertical-align: middle;\n",
       "    }\n",
       "\n",
       "    .dataframe tbody tr th {\n",
       "        vertical-align: top;\n",
       "    }\n",
       "\n",
       "    .dataframe thead th {\n",
       "        text-align: right;\n",
       "    }\n",
       "</style>\n",
       "<table border=\"1\" class=\"dataframe\">\n",
       "  <thead>\n",
       "    <tr style=\"text-align: right;\">\n",
       "      <th></th>\n",
       "      <th>ProductLine</th>\n",
       "      <th>TotalSales</th>\n",
       "      <th>TotalQuantity</th>\n",
       "      <th>CancelledOrders</th>\n",
       "    </tr>\n",
       "  </thead>\n",
       "  <tbody>\n",
       "    <tr>\n",
       "      <th>S24_3969</th>\n",
       "      <td>Vintage Cars</td>\n",
       "      <td>33181.66</td>\n",
       "      <td>745.0</td>\n",
       "      <td>0.0</td>\n",
       "    </tr>\n",
       "    <tr>\n",
       "      <th>S32_2206</th>\n",
       "      <td>Motorcycles</td>\n",
       "      <td>41353.43</td>\n",
       "      <td>836.0</td>\n",
       "      <td>0.0</td>\n",
       "    </tr>\n",
       "    <tr>\n",
       "      <th>S24_2022</th>\n",
       "      <td>Vintage Cars</td>\n",
       "      <td>44667.16</td>\n",
       "      <td>851.0</td>\n",
       "      <td>0.0</td>\n",
       "    </tr>\n",
       "    <tr>\n",
       "      <th>S24_2972</th>\n",
       "      <td>Classic Cars</td>\n",
       "      <td>46515.92</td>\n",
       "      <td>912.0</td>\n",
       "      <td>0.0</td>\n",
       "    </tr>\n",
       "    <tr>\n",
       "      <th>S24_1628</th>\n",
       "      <td>Classic Cars</td>\n",
       "      <td>46676.51</td>\n",
       "      <td>883.0</td>\n",
       "      <td>0.0</td>\n",
       "    </tr>\n",
       "    <tr>\n",
       "      <th>S24_2840</th>\n",
       "      <td>Classic Cars</td>\n",
       "      <td>47235.48</td>\n",
       "      <td>983.0</td>\n",
       "      <td>0.0</td>\n",
       "    </tr>\n",
       "    <tr>\n",
       "      <th>S24_1937</th>\n",
       "      <td>Vintage Cars</td>\n",
       "      <td>47981.09</td>\n",
       "      <td>844.0</td>\n",
       "      <td>0.0</td>\n",
       "    </tr>\n",
       "    <tr>\n",
       "      <th>S50_1341</th>\n",
       "      <td>Vintage Cars</td>\n",
       "      <td>50217.95</td>\n",
       "      <td>999.0</td>\n",
       "      <td>0.0</td>\n",
       "    </tr>\n",
       "    <tr>\n",
       "      <th>S72_1253</th>\n",
       "      <td>Planes</td>\n",
       "      <td>51661.82</td>\n",
       "      <td>920.0</td>\n",
       "      <td>0.0</td>\n",
       "    </tr>\n",
       "    <tr>\n",
       "      <th>S18_1367</th>\n",
       "      <td>Vintage Cars</td>\n",
       "      <td>52045.03</td>\n",
       "      <td>890.0</td>\n",
       "      <td>0.0</td>\n",
       "    </tr>\n",
       "  </tbody>\n",
       "</table>\n",
       "</div>"
      ],
      "text/plain": [
       "           ProductLine  TotalSales  TotalQuantity  CancelledOrders\n",
       "S24_3969  Vintage Cars    33181.66          745.0              0.0\n",
       "S32_2206   Motorcycles    41353.43          836.0              0.0\n",
       "S24_2022  Vintage Cars    44667.16          851.0              0.0\n",
       "S24_2972  Classic Cars    46515.92          912.0              0.0\n",
       "S24_1628  Classic Cars    46676.51          883.0              0.0\n",
       "S24_2840  Classic Cars    47235.48          983.0              0.0\n",
       "S24_1937  Vintage Cars    47981.09          844.0              0.0\n",
       "S50_1341  Vintage Cars    50217.95          999.0              0.0\n",
       "S72_1253        Planes    51661.82          920.0              0.0\n",
       "S18_1367  Vintage Cars    52045.03          890.0              0.0"
      ]
     },
     "execution_count": 85,
     "metadata": {},
     "output_type": "execute_result"
    }
   ],
   "source": [
    "product_summary = pd.DataFrame({\n",
    "    \"ProductLine\": product_line,\n",
    "    \"TotalSales\": total_sales,\n",
    "    \"TotalQuantity\": total_quantity,\n",
    "    \"CancelledOrders\": cancelled_counts\n",
    "})\n",
    "\n",
    "product_summary[\"CancelledOrders\"].fillna(0, inplace=True)\n",
    "\n",
    "product_summary = product_summary.sort_values(by=\"TotalSales\")\n",
    "product_summary.head(10)\n"
   ]
  },
  {
   "cell_type": "code",
   "execution_count": 87,
   "id": "02a16a34-b823-46dc-b589-feed5c141f4e",
   "metadata": {},
   "outputs": [],
   "source": [
    "def recommend(row):\n",
    "    if row[\"TotalSales\"] < 5000 and row[\"TotalQuantity\"] < 20:\n",
    "        return \"❌ stop\"\n",
    "    elif row[\"TotalSales\"] < 10000 or row[\"TotalQuantity\"] < 50:\n",
    "        return \"⚠️ watch\"\n",
    "    else:\n",
    "        return \"✔️ keep\"\n",
    "\n",
    "product_summary[\"advice\"] = product_summary.apply(recommend, axis=1)\n"
   ]
  },
  {
   "cell_type": "code",
   "execution_count": 89,
   "id": "b4b390fd-750d-4b28-8877-06341dde96c0",
   "metadata": {},
   "outputs": [
    {
     "data": {
      "text/html": [
       "<div>\n",
       "<style scoped>\n",
       "    .dataframe tbody tr th:only-of-type {\n",
       "        vertical-align: middle;\n",
       "    }\n",
       "\n",
       "    .dataframe tbody tr th {\n",
       "        vertical-align: top;\n",
       "    }\n",
       "\n",
       "    .dataframe thead th {\n",
       "        text-align: right;\n",
       "    }\n",
       "</style>\n",
       "<table border=\"1\" class=\"dataframe\">\n",
       "  <thead>\n",
       "    <tr style=\"text-align: right;\">\n",
       "      <th></th>\n",
       "      <th>ProductLine</th>\n",
       "      <th>TotalSales</th>\n",
       "      <th>TotalQuantity</th>\n",
       "      <th>CancelledOrders</th>\n",
       "      <th>advice</th>\n",
       "    </tr>\n",
       "  </thead>\n",
       "  <tbody>\n",
       "    <tr>\n",
       "      <th>S24_3969</th>\n",
       "      <td>Vintage Cars</td>\n",
       "      <td>33181.66</td>\n",
       "      <td>745.0</td>\n",
       "      <td>0.0</td>\n",
       "      <td>✔️ keep</td>\n",
       "    </tr>\n",
       "    <tr>\n",
       "      <th>S32_2206</th>\n",
       "      <td>Motorcycles</td>\n",
       "      <td>41353.43</td>\n",
       "      <td>836.0</td>\n",
       "      <td>0.0</td>\n",
       "      <td>✔️ keep</td>\n",
       "    </tr>\n",
       "    <tr>\n",
       "      <th>S24_2022</th>\n",
       "      <td>Vintage Cars</td>\n",
       "      <td>44667.16</td>\n",
       "      <td>851.0</td>\n",
       "      <td>0.0</td>\n",
       "      <td>✔️ keep</td>\n",
       "    </tr>\n",
       "    <tr>\n",
       "      <th>S24_2972</th>\n",
       "      <td>Classic Cars</td>\n",
       "      <td>46515.92</td>\n",
       "      <td>912.0</td>\n",
       "      <td>0.0</td>\n",
       "      <td>✔️ keep</td>\n",
       "    </tr>\n",
       "    <tr>\n",
       "      <th>S24_1628</th>\n",
       "      <td>Classic Cars</td>\n",
       "      <td>46676.51</td>\n",
       "      <td>883.0</td>\n",
       "      <td>0.0</td>\n",
       "      <td>✔️ keep</td>\n",
       "    </tr>\n",
       "    <tr>\n",
       "      <th>S24_2840</th>\n",
       "      <td>Classic Cars</td>\n",
       "      <td>47235.48</td>\n",
       "      <td>983.0</td>\n",
       "      <td>0.0</td>\n",
       "      <td>✔️ keep</td>\n",
       "    </tr>\n",
       "    <tr>\n",
       "      <th>S24_1937</th>\n",
       "      <td>Vintage Cars</td>\n",
       "      <td>47981.09</td>\n",
       "      <td>844.0</td>\n",
       "      <td>0.0</td>\n",
       "      <td>✔️ keep</td>\n",
       "    </tr>\n",
       "    <tr>\n",
       "      <th>S50_1341</th>\n",
       "      <td>Vintage Cars</td>\n",
       "      <td>50217.95</td>\n",
       "      <td>999.0</td>\n",
       "      <td>0.0</td>\n",
       "      <td>✔️ keep</td>\n",
       "    </tr>\n",
       "    <tr>\n",
       "      <th>S72_1253</th>\n",
       "      <td>Planes</td>\n",
       "      <td>51661.82</td>\n",
       "      <td>920.0</td>\n",
       "      <td>0.0</td>\n",
       "      <td>✔️ keep</td>\n",
       "    </tr>\n",
       "    <tr>\n",
       "      <th>S18_1367</th>\n",
       "      <td>Vintage Cars</td>\n",
       "      <td>52045.03</td>\n",
       "      <td>890.0</td>\n",
       "      <td>0.0</td>\n",
       "      <td>✔️ keep</td>\n",
       "    </tr>\n",
       "  </tbody>\n",
       "</table>\n",
       "</div>"
      ],
      "text/plain": [
       "           ProductLine  TotalSales  TotalQuantity  CancelledOrders   advice\n",
       "S24_3969  Vintage Cars    33181.66          745.0              0.0  ✔️ keep\n",
       "S32_2206   Motorcycles    41353.43          836.0              0.0  ✔️ keep\n",
       "S24_2022  Vintage Cars    44667.16          851.0              0.0  ✔️ keep\n",
       "S24_2972  Classic Cars    46515.92          912.0              0.0  ✔️ keep\n",
       "S24_1628  Classic Cars    46676.51          883.0              0.0  ✔️ keep\n",
       "S24_2840  Classic Cars    47235.48          983.0              0.0  ✔️ keep\n",
       "S24_1937  Vintage Cars    47981.09          844.0              0.0  ✔️ keep\n",
       "S50_1341  Vintage Cars    50217.95          999.0              0.0  ✔️ keep\n",
       "S72_1253        Planes    51661.82          920.0              0.0  ✔️ keep\n",
       "S18_1367  Vintage Cars    52045.03          890.0              0.0  ✔️ keep"
      ]
     },
     "execution_count": 89,
     "metadata": {},
     "output_type": "execute_result"
    }
   ],
   "source": [
    "product_summary.to_csv(\"advice.csv\", encoding=\"utf-8\", index=True)\n",
    "product_summary.head(10)"
   ]
  },
  {
   "cell_type": "code",
   "execution_count": 95,
   "id": "e8703243-5b40-413c-b8fa-549203af8782",
   "metadata": {},
   "outputs": [
    {
     "data": {
      "text/html": [
       "<div>\n",
       "<style scoped>\n",
       "    .dataframe tbody tr th:only-of-type {\n",
       "        vertical-align: middle;\n",
       "    }\n",
       "\n",
       "    .dataframe tbody tr th {\n",
       "        vertical-align: top;\n",
       "    }\n",
       "\n",
       "    .dataframe thead th {\n",
       "        text-align: right;\n",
       "    }\n",
       "</style>\n",
       "<table border=\"1\" class=\"dataframe\">\n",
       "  <thead>\n",
       "    <tr style=\"text-align: right;\">\n",
       "      <th></th>\n",
       "      <th>ProductLine</th>\n",
       "      <th>TotalSales</th>\n",
       "      <th>TotalQuantity</th>\n",
       "      <th>CancelledOrders</th>\n",
       "      <th>advice</th>\n",
       "    </tr>\n",
       "  </thead>\n",
       "  <tbody>\n",
       "  </tbody>\n",
       "</table>\n",
       "</div>"
      ],
      "text/plain": [
       "Empty DataFrame\n",
       "Columns: [ProductLine, TotalSales, TotalQuantity, CancelledOrders, advice]\n",
       "Index: []"
      ]
     },
     "execution_count": 95,
     "metadata": {},
     "output_type": "execute_result"
    }
   ],
   "source": [
    "low_sales_low_quantity = product_summary[\n",
    "    (product_summary[\"TotalSales\"] < 10000) & (product_summary[\"TotalQuantity\"] < 50)\n",
    "]\n",
    "\n",
    "low_sales_low_quantity.sort_values(by=\"TotalSales\").head()\n"
   ]
  },
  {
   "cell_type": "code",
   "execution_count": 97,
   "id": "6ce80b65-cd6d-4249-a775-ca00c8413352",
   "metadata": {},
   "outputs": [
    {
     "data": {
      "text/plain": [
       "(0, 5)"
      ]
     },
     "execution_count": 97,
     "metadata": {},
     "output_type": "execute_result"
    }
   ],
   "source": [
    "low_sales_low_quantity.shape\n"
   ]
  },
  {
   "cell_type": "code",
   "execution_count": null,
   "id": "3870b242-7f9b-4a37-973c-04bc593d1f1d",
   "metadata": {},
   "outputs": [],
   "source": [
    "Analysis revealed no immediate need for product discontinuation, but identified key watchlist items for continued observation"
   ]
  }
 ],
 "metadata": {
  "kernelspec": {
   "display_name": "Python 3 (ipykernel)",
   "language": "python",
   "name": "python3"
  },
  "language_info": {
   "codemirror_mode": {
    "name": "ipython",
    "version": 3
   },
   "file_extension": ".py",
   "mimetype": "text/x-python",
   "name": "python",
   "nbconvert_exporter": "python",
   "pygments_lexer": "ipython3",
   "version": "3.12.7"
  }
 },
 "nbformat": 4,
 "nbformat_minor": 5
}
